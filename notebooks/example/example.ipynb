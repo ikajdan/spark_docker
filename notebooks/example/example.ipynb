{
 "cells": [
  {
   "cell_type": "markdown",
   "id": "374158ee",
   "metadata": {},
   "source": [
    "## Setup"
   ]
  },
  {
   "cell_type": "code",
   "execution_count": null,
   "id": "72810292",
   "metadata": {
    "ExecuteTime": {
     "end_time": "2024-10-30T16:17:56.510601Z",
     "start_time": "2024-10-30T16:17:53.625082Z"
    }
   },
   "outputs": [],
   "source": [
    "from pyspark import SparkConf, SparkContext\n",
    "\n",
    "conf = SparkConf().setAppName(\"Example\").setMaster(\"local[*]\")\n",
    "\n",
    "sc = SparkContext(conf=conf)\n"
   ]
  },
  {
   "cell_type": "markdown",
   "id": "4181f093",
   "metadata": {},
   "source": [
    "## Task 1"
   ]
  },
  {
   "cell_type": "code",
   "execution_count": null,
   "id": "b6f3822c",
   "metadata": {
    "ExecuteTime": {
     "end_time": "2024-10-30T16:20:01.534457Z",
     "start_time": "2024-10-30T16:20:01.438529Z"
    }
   },
   "outputs": [],
   "source": [
    "text_rdd = sc.textFile(\"./notebooks/example/quijote.txt\")\n",
    "\n",
    "print(text_rdd.collect())\n",
    "\n",
    "word_counts = (\n",
    "    text_rdd.flatMap(lambda line: line.split())\n",
    "    .map(lambda word: (word.lower(), 1))\n",
    "    .reduceByKey(lambda a, b: a + b)\n",
    ")\n",
    "\n",
    "result = word_counts.collectAsMap()\n",
    "print(result)\n"
   ]
  },
  {
   "cell_type": "markdown",
   "id": "a7b0617f",
   "metadata": {},
   "source": [
    "## Task 2"
   ]
  },
  {
   "cell_type": "code",
   "execution_count": null,
   "id": "1983d3f0",
   "metadata": {},
   "outputs": [],
   "source": [
    "# Find the most frequent word\n",
    "most_frequent_word = word_counts.reduce(lambda a, b: a if a[1] > b[1] else b)\n",
    "\n",
    "print(\n",
    "    f\"The most frequent word is: {most_frequent_word[0]} with a count of {most_frequent_word[1]}\"\n",
    ")\n"
   ]
  },
  {
   "cell_type": "markdown",
   "id": "120c39bc",
   "metadata": {},
   "source": [
    "## Task 3"
   ]
  },
  {
   "cell_type": "code",
   "execution_count": null,
   "id": "3a9528cc",
   "metadata": {},
   "outputs": [],
   "source": [
    "lines_with_index = text_rdd.zipWithIndex()\n",
    "\n",
    "inverted_index = (\n",
    "    lines_with_index.flatMap(\n",
    "        lambda line: [(word.lower(), line[1]) for word in line[0].split()]\n",
    "    )\n",
    "    .groupByKey()\n",
    "    .mapValues(list)\n",
    ")\n",
    "\n",
    "inverted_index_result = inverted_index.collectAsMap()\n",
    "\n",
    "word_to_search = most_frequent_word[0]\n",
    "line_count = inverted_index.filter(lambda x: x[0] == word_to_search).collect()\n",
    "\n",
    "if line_count:\n",
    "    print(\n",
    "        f\"The word '{word_to_search}' appears in {len(line_count[0][1])} unique lines.\"\n",
    "    )\n",
    "else:\n",
    "    print(f\"The word '{word_to_search}' does not appear in any lines.\")\n"
   ]
  },
  {
   "cell_type": "markdown",
   "id": "a8fd4d57",
   "metadata": {},
   "source": [
    "## Task 4"
   ]
  },
  {
   "cell_type": "code",
   "execution_count": null,
   "id": "37cd6b29",
   "metadata": {},
   "outputs": [],
   "source": [
    "word_to_search = most_frequent_word[0]\n",
    "\n",
    "line_count = (\n",
    "    inverted_index.filter(lambda x: x[0] == word_to_search)\n",
    "    .map(lambda x: len(x[1]))\n",
    "    .collect()\n",
    ")\n",
    "\n",
    "print(f\"The word '{word_to_search}' appears in {line_count[0]} unique lines.\")\n"
   ]
  },
  {
   "cell_type": "markdown",
   "id": "b229ace5",
   "metadata": {},
   "source": [
    "## Cleanup"
   ]
  },
  {
   "cell_type": "code",
   "execution_count": null,
   "id": "fdcaef6f",
   "metadata": {},
   "outputs": [],
   "source": [
    "sc.stop()\n"
   ]
  }
 ],
 "metadata": {
  "kernelspec": {
   "display_name": "Python 3 (ipykernel)",
   "language": "python",
   "name": "python3"
  },
  "language_info": {
   "codemirror_mode": {
    "name": "ipython",
    "version": 3
   },
   "file_extension": ".py",
   "mimetype": "text/x-python",
   "name": "python",
   "nbconvert_exporter": "python",
   "pygments_lexer": "ipython3",
   "version": "3.12.7"
  },
  "toc": {
   "base_numbering": 1,
   "nav_menu": {},
   "number_sections": true,
   "sideBar": true,
   "skip_h1_title": false,
   "title_cell": "Table of Contents",
   "title_sidebar": "Contents",
   "toc_cell": false,
   "toc_position": {},
   "toc_section_display": true,
   "toc_window_display": false
  }
 },
 "nbformat": 4,
 "nbformat_minor": 5
}
